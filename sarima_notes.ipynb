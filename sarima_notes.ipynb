{
 "cells": [
  {
   "cell_type": "code",
   "execution_count": 3,
   "metadata": {},
   "outputs": [],
   "source": [
    "import pandas as pd\n",
    "import numpy as np"
   ]
  },
  {
   "cell_type": "markdown",
   "metadata": {},
   "source": [
    "# Explanation of SARIMA parameters\n",
    "\n",
    "In this notebook we develop documentation for easy reference that tell us what these mighty and enigmatic SARIMA model orders are. That's p, d, q, P, D, Q, S.\n",
    "\n",
    "SARIMA model is a time series model that lets you predict future values of some variable(s) of interest. It stands for Seasonal AutoRegressive Integrated Moving Average. Really, this this three racoons models standing on eachother's shoulders in a trench coat. It will be helpful to consider each little racoon as its own entity before looking at the whole coated figure.\n",
    "\n",
    "- Autoregressive (AR) model.\n",
    "A model unto its own! Tries to predict a future value based on values in the past. For example, what are tomorrow's used car sales? How many days back is most helpful for allowing us to predict tomorrow's sales? Only yesterday? Only 3 days ago? In essence, we're drawing a best fit line through a scatter plot of lagged data (the x values) and the current data (y values) to see which one has the least amount of error.\n",
    "\n",
    "- Moving Average (MA) model."
   ]
  },
  {
   "cell_type": "markdown",
   "metadata": {},
   "source": [
    "# To do list! Open Questions!\n",
    "\n",
    "- How are the B's determined? Is that the work of the SARIMA model? How does it do that if so? \n",
    "- How is e determined?\n",
    "- How do the equations for p (autoregressive) and q (moving average) integrate to form an ARIMA model?\n",
    "- How do we determine scedacity?"
   ]
  },
  {
   "cell_type": "markdown",
   "metadata": {},
   "source": [
    "### What is little p\n",
    "\n",
    "p is the order of your autoregressive model. It is to how many lags back the model is to observe previous values of the target variable. If you're lookin to wrangle your p paramter pardner, you will be looking at the AR piece of the SARIMA model. Forget the other stuff for now, it's AR time. It'll start making sense when you take a look at the equation for an autoregresesive model \n",
    "\n",
    "The basic equation for an autoregressive model is this:\n",
    "\n",
    "y<sub>t</sub> = B<sub>0</sub> + B<sub>1</sub>y<sub>t-1</sub> + e<sub>t</sub>\n",
    "\n",
    "y<sub>t</sub> = the value you're trying to predict<br />\n",
    "y<sub>t-1</sub> = the previous value\n",
    "\n",
    "B<sub>n</sub> = The coefficient of y at lag n. Consider y<sub>t</sub> = 3 + 2y<sub>t-1</sub> + e<sub>t</sub> <br /> 3 is the B value at t = 0 (B<sub>0</sub> = 3) and 2 is the B value at t-1 (B<sub>1</sub> = 2)\n",
    "\n",
    "e = Error. All time series equations have inherent error, and e represents it. \n",
    "\n",
    "The y's can be subscripted down to whatever lag it needs to be. So like t-1 is one period ago, but it can be all the way back to t-n. \n",
    "So if I want to predict tomorrow's sales, that's y<sub>t</sub>. Today's sales would be y<sub>t-1</sub.\n",
    "\n",
    "So if you have an autoregressive equation that goes back 3 time periods then it's going to have all the way to t-3. E.g. an AR(3) would be \n",
    "\n",
    "y<sub>t</sub> = B<sub>0</sub> + B<sub>1</sub>y<sub>t-1</sub> + B<sub>2</sub>y<sub>t-2</sub> + B<sub>3</sub>y<sub>t-3</sub> + e<sub>t</sub>\n",
    "\n",
    "### Identifying p\n",
    "\n",
    "The PACF is most useful for identifying the order of an autoregressive model. \"large PACF values at a given lag indicate this value as a possible choice for the order of an autoregressive model.\"\n",
    "\n",
    "Should check PACF and ACF plots though and look for a pattern as well as when it dips below significance threshold. \n",
    "\n",
    "Values lying outside of either of these bounds (the significance thresholds of the PACF plots) are indicative of an autoregressive process.\n",
    "\n",
    "*At this point we're curious about walking through the mathematical determination of a p. Specifically, we want to look at the relationship between the pacf plot and the p-value that you'll get for linear regression models at different lags.*\n",
    "\n",
    "In pursuance of the above italicized text:\n",
    "- grab some time series data (keep it simple)\n",
    "- generate pacf plot of it\n",
    "- run linear regression models at various time lags that seem relevant (probably just those hopeful few time lags that are above the significance threshold)\n",
    "- compare corresponding p-values to their lag on the pacf plot\n",
    "- Hypothesis: The last significant lag should be the one with the lowest (and therefore best) p_value. And that lag will be your p choice."
   ]
  },
  {
   "cell_type": "markdown",
   "metadata": {},
   "source": [
    "# Bibliography \n",
    "\n",
    "https://online.stat.psu.edu/stat501/book/export/html/996#:~:text=The%20order%20of%20an%20autoregression,value%20at%20the%20present%20time."
   ]
  }
 ],
 "metadata": {
  "kernelspec": {
   "display_name": "Python 3",
   "language": "python",
   "name": "python3"
  },
  "language_info": {
   "codemirror_mode": {
    "name": "ipython",
    "version": 3
   },
   "file_extension": ".py",
   "mimetype": "text/x-python",
   "name": "python",
   "nbconvert_exporter": "python",
   "pygments_lexer": "ipython3",
   "version": "3.11.5"
  }
 },
 "nbformat": 4,
 "nbformat_minor": 2
}
